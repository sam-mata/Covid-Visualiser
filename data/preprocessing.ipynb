{
 "cells": [
  {
   "cell_type": "code",
   "execution_count": null,
   "id": "initial_id",
   "metadata": {
    "collapsed": true,
    "jupyter": {
     "is_executing": true
    }
   },
   "outputs": [],
   "source": [
    "import json"
   ]
  },
  {
   "cell_type": "code",
   "execution_count": null,
   "id": "933883d2",
   "metadata": {
    "jupyter": {
     "is_executing": true
    }
   },
   "outputs": [],
   "source": [
    "def remove_redundant_dates(country_data):\n",
    "    filtered_data = []\n",
    "    previous_entry = None\n",
    "\n",
    "    for entry in country_data:\n",
    "        if previous_entry is None or any(\n",
    "                key != 'date' and (key not in previous_entry or entry[key] != previous_entry[key])\n",
    "                for key in entry\n",
    "        ):\n",
    "            filtered_data.append(entry)\n",
    "        previous_entry = entry\n",
    "\n",
    "    return filtered_data"
   ]
  },
  {
   "cell_type": "code",
   "execution_count": 3,
   "id": "a816fb4f6ef57c96",
   "metadata": {
    "ExecuteTime": {
     "end_time": "2024-05-22T01:24:01.128861Z",
     "start_time": "2024-05-22T01:23:47.622958Z"
    }
   },
   "outputs": [
    {
     "name": "stdout",
     "output_type": "stream",
     "text": [
      "Data cleaned and saved to cleaned_data.json.\n"
     ]
    }
   ],
   "source": [
    "def remove_specified_fields(data, fields_to_remove):\n",
    "    if isinstance(data, dict):\n",
    "        return {key: remove_specified_fields(value, fields_to_remove) for key, value in data.items() if\n",
    "                key not in fields_to_remove}\n",
    "    elif isinstance(data, list):\n",
    "        return [remove_specified_fields(item, fields_to_remove) for item in data]\n",
    "    else:\n",
    "        return data"
   ]
  },
  {
   "cell_type": "code",
   "execution_count": 3,
   "id": "a84ab43e1ffd1f2e",
   "metadata": {
    "ExecuteTime": {
     "end_time": "2024-05-22T01:24:01.134406Z",
     "start_time": "2024-05-22T01:24:01.131232Z"
    }
   },
   "outputs": [],
   "source": [
    "def remove_specified_countries(data, countries_to_remove):\n",
    "    return {key: value for key, value in data.items() if key not in countries_to_remove}"
   ]
  },
  {
   "cell_type": "code",
   "execution_count": null,
   "id": "5e6177d4",
   "metadata": {},
   "outputs": [],
   "source": [
    "fields_to_remove = {\"new_cases_smoothed\", \"new_deaths_smoothed\", \"new_cases_smoothed_per_million\",\n",
    "                    \"new_deaths_smoothed_per_million\", \"new_cases\", \"new_cases_per_million\", \"new_deaths\",\n",
    "                    \"new_deaths_smoothed\", \"new_deaths_per_million\", \"new_deaths_smoothed_per_million\",\n",
    "                    \"excess_mortality\", \"excess_mortality_cumulative\", \"excess_mortality_cumulative_absolute\",\n",
    "                    \"excess_mortality_cumulative_per_million\", \"icu_patients\", \"icu_patients_per_million\",\n",
    "                    \"hosp_patients\", \"hosp_patients_per_million\", \"weekly_icu_admissions\",\n",
    "                    \"weekly_icu_admissions_per_million\", \"weekly_hosp_admissions\", \"weekly_hosp_admissions_per_million\",\n",
    "                    \"reproduction_rate\", \"new_tests\", \"new_tests_per_thousand\", \"new_tests_smoothed\",\n",
    "                    \"new_tests_smoothed_per_thousand\", \"positive_rate\", \"tests_per_case\", \"tests_units\",\n",
    "                    \"total_vaccinations\", \"people_fully_vaccinated\", \"total_boosters\", \"new_vaccinations\",\n",
    "                    \"new_vaccinations_smoothed\", \"total_vaccinations_per_hundred\",\n",
    "                    \"people_fully_vaccinated_per_hundred\",\n",
    "                    \"total_boosters_per_hundred\", \"new_vaccinations_smoothed_per_million\",\n",
    "                    \"new_people_vaccinated_smoothed\", \"new_people_vaccinated_smoothed_per_hundred\",\n",
    "                    \"population_density\",\n",
    "                    \"median_age\", \"aged_65_older\", \"aged_70_older\", \"gdp_per_capita\", \"extreme_poverty\",\n",
    "                    \"cardiovasc_death_rate\", \"diabetes_prevalence\", \"female_smokers\", \"male_smokers\",\n",
    "                    \"handwashing_facilities\", \"hospital_beds_per_thousand\", \"life_expectancy\",\n",
    "                    \"human_development_index\", \"continent\", \"total_cases_per_million\", \"total_deaths_per_million\",\n",
    "                    \"people_vaccinated_per_hundred\", \"total_tests_per_thousand\"}\n",
    "\n",
    "countries_to_remove = {\"OWID_AFR\", \"OWID_ASI\", \"OWID_ENG\", \"OWID_EUR\", \"OWID_EUN\", \"OWID_HIC\", \"OWID_KOS\", \"OWID_LIC\",\n",
    "                       \"OWID_LMC\", \"OWID_NAM\", \"OWID_CYN\", \"OWID_NIR\", \"OWID_OCE\", \"OWID_SCT\", \"OWID_SAM\", \"OWID_UMC\",\n",
    "                       \"OWID_WLS\"}"
   ]
  },
  {
   "cell_type": "code",
   "execution_count": null,
   "id": "5ab01ad1",
   "metadata": {},
   "outputs": [],
   "source": [
    "with open('data.json', 'r') as input_file:\n",
    "    json_data = json.load(input_file)\n",
    "\n",
    "data_without_specified_countries = remove_specified_countries(json_data, countries_to_remove)\n",
    "data_with_removed_fields = remove_specified_fields(data_without_specified_countries, fields_to_remove)\n",
    "\n",
    "for country, country_data in data_with_removed_fields.items():\n",
    "    if 'data' in country_data:\n",
    "        country_data['data'] = remove_redundant_dates(country_data['data'])\n",
    "\n",
    "with open('cleaned_data.json', 'w') as output_file:\n",
    "    json.dump(data_with_removed_fields, output_file, indent=4)\n",
    "\n",
    "print(\"Data cleaned and saved to cleaned_data.json.\") "
   ]
  }
 ],
 "metadata": {
  "kernelspec": {
   "display_name": "Python 3",
   "language": "python",
   "name": "python3"
  },
  "language_info": {
   "codemirror_mode": {
    "name": "ipython",
    "version": 2
   },
   "file_extension": ".py",
   "mimetype": "text/x-python",
   "name": "python",
   "nbconvert_exporter": "python",
   "pygments_lexer": "ipython2",
   "version": "2.7.6"
  }
 },
 "nbformat": 4,
 "nbformat_minor": 5
}