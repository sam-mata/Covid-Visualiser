{
 "cells": [
  {
   "cell_type": "code",
   "execution_count": 2,
   "id": "initial_id",
   "metadata": {
    "ExecuteTime": {
     "end_time": "2024-05-22T01:23:47.621950Z",
     "start_time": "2024-05-22T01:23:21.939101Z"
    },
    "collapsed": true
   },
   "outputs": [],
   "source": [
    "import json"
   ]
  },
  {
   "cell_type": "code",
   "execution_count": 3,
   "id": "a816fb4f6ef57c96",
   "metadata": {
    "ExecuteTime": {
     "end_time": "2024-05-22T01:24:01.128861Z",
     "start_time": "2024-05-22T01:23:47.622958Z"
    }
   },
   "outputs": [
    {
     "ename": "FileNotFoundError",
     "evalue": "[Errno 2] No such file or directory: 'data.json'",
     "output_type": "error",
     "traceback": [
      "\u001b[1;31m---------------------------------------------------------------------------\u001b[0m",
      "\u001b[1;31mFileNotFoundError\u001b[0m                         Traceback (most recent call last)",
      "Cell \u001b[1;32mIn[3], line 28\u001b[0m\n\u001b[0;32m      8\u001b[0m         \u001b[38;5;28;01mreturn\u001b[39;00m data\n\u001b[0;32m     11\u001b[0m keys_to_remove \u001b[38;5;241m=\u001b[39m {\u001b[38;5;124m\"\u001b[39m\u001b[38;5;124mnew_cases_smoothed\u001b[39m\u001b[38;5;124m\"\u001b[39m, \u001b[38;5;124m\"\u001b[39m\u001b[38;5;124mnew_deaths_smoothed\u001b[39m\u001b[38;5;124m\"\u001b[39m, \u001b[38;5;124m\"\u001b[39m\u001b[38;5;124mnew_cases_smoothed_per_million\u001b[39m\u001b[38;5;124m\"\u001b[39m,\n\u001b[0;32m     12\u001b[0m                   \u001b[38;5;124m\"\u001b[39m\u001b[38;5;124mnew_deaths_smoothed_per_million\u001b[39m\u001b[38;5;124m\"\u001b[39m, \u001b[38;5;124m\"\u001b[39m\u001b[38;5;124mnew_cases\u001b[39m\u001b[38;5;124m\"\u001b[39m, \u001b[38;5;124m\"\u001b[39m\u001b[38;5;124mnew_cases_per_million\u001b[39m\u001b[38;5;124m\"\u001b[39m, \u001b[38;5;124m\"\u001b[39m\u001b[38;5;124mnew_deaths\u001b[39m\u001b[38;5;124m\"\u001b[39m,\n\u001b[0;32m     13\u001b[0m                   \u001b[38;5;124m\"\u001b[39m\u001b[38;5;124mnew_deaths_smoothed\u001b[39m\u001b[38;5;124m\"\u001b[39m, \u001b[38;5;124m\"\u001b[39m\u001b[38;5;124mnew_deaths_per_million\u001b[39m\u001b[38;5;124m\"\u001b[39m, \u001b[38;5;124m\"\u001b[39m\u001b[38;5;124mnew_deaths_smoothed_per_million\u001b[39m\u001b[38;5;124m\"\u001b[39m,\n\u001b[1;32m   (...)\u001b[0m\n\u001b[0;32m     25\u001b[0m                   \u001b[38;5;124m\"\u001b[39m\u001b[38;5;124mcardiovasc_death_rate\u001b[39m\u001b[38;5;124m\"\u001b[39m, \u001b[38;5;124m\"\u001b[39m\u001b[38;5;124mdiabetes_prevalence\u001b[39m\u001b[38;5;124m\"\u001b[39m, \u001b[38;5;124m\"\u001b[39m\u001b[38;5;124mfemale_smokers\u001b[39m\u001b[38;5;124m\"\u001b[39m, \u001b[38;5;124m\"\u001b[39m\u001b[38;5;124mmale_smokers\u001b[39m\u001b[38;5;124m\"\u001b[39m,\n\u001b[0;32m     26\u001b[0m                   \u001b[38;5;124m\"\u001b[39m\u001b[38;5;124mhandwashing_facilities\u001b[39m\u001b[38;5;124m\"\u001b[39m, \u001b[38;5;124m\"\u001b[39m\u001b[38;5;124mhospital_beds_per_thousand\u001b[39m\u001b[38;5;124m\"\u001b[39m, \u001b[38;5;124m\"\u001b[39m\u001b[38;5;124mlife_expectancy\u001b[39m\u001b[38;5;124m\"\u001b[39m, \u001b[38;5;124m\"\u001b[39m\u001b[38;5;124mhuman_development_index\u001b[39m\u001b[38;5;124m\"\u001b[39m}\n\u001b[1;32m---> 28\u001b[0m \u001b[38;5;28;01mwith\u001b[39;00m \u001b[38;5;28;43mopen\u001b[39;49m\u001b[43m(\u001b[49m\u001b[38;5;124;43m'\u001b[39;49m\u001b[38;5;124;43mdata.json\u001b[39;49m\u001b[38;5;124;43m'\u001b[39;49m\u001b[43m,\u001b[49m\u001b[43m \u001b[49m\u001b[38;5;124;43m'\u001b[39;49m\u001b[38;5;124;43mr\u001b[39;49m\u001b[38;5;124;43m'\u001b[39;49m\u001b[43m)\u001b[49m \u001b[38;5;28;01mas\u001b[39;00m file:\n\u001b[0;32m     29\u001b[0m     data \u001b[38;5;241m=\u001b[39m json\u001b[38;5;241m.\u001b[39mload(file)\n\u001b[0;32m     31\u001b[0m cleaned_data \u001b[38;5;241m=\u001b[39m remove_keys(data, keys_to_remove)\n",
      "File \u001b[1;32mc:\\Users\\samma\\AppData\\Local\\Programs\\Python\\Python311\\Lib\\site-packages\\IPython\\core\\interactiveshell.py:284\u001b[0m, in \u001b[0;36m_modified_open\u001b[1;34m(file, *args, **kwargs)\u001b[0m\n\u001b[0;32m    277\u001b[0m \u001b[38;5;28;01mif\u001b[39;00m file \u001b[38;5;129;01min\u001b[39;00m {\u001b[38;5;241m0\u001b[39m, \u001b[38;5;241m1\u001b[39m, \u001b[38;5;241m2\u001b[39m}:\n\u001b[0;32m    278\u001b[0m     \u001b[38;5;28;01mraise\u001b[39;00m \u001b[38;5;167;01mValueError\u001b[39;00m(\n\u001b[0;32m    279\u001b[0m         \u001b[38;5;124mf\u001b[39m\u001b[38;5;124m\"\u001b[39m\u001b[38;5;124mIPython won\u001b[39m\u001b[38;5;124m'\u001b[39m\u001b[38;5;124mt let you open fd=\u001b[39m\u001b[38;5;132;01m{\u001b[39;00mfile\u001b[38;5;132;01m}\u001b[39;00m\u001b[38;5;124m by default \u001b[39m\u001b[38;5;124m\"\u001b[39m\n\u001b[0;32m    280\u001b[0m         \u001b[38;5;124m\"\u001b[39m\u001b[38;5;124mas it is likely to crash IPython. If you know what you are doing, \u001b[39m\u001b[38;5;124m\"\u001b[39m\n\u001b[0;32m    281\u001b[0m         \u001b[38;5;124m\"\u001b[39m\u001b[38;5;124myou can use builtins\u001b[39m\u001b[38;5;124m'\u001b[39m\u001b[38;5;124m open.\u001b[39m\u001b[38;5;124m\"\u001b[39m\n\u001b[0;32m    282\u001b[0m     )\n\u001b[1;32m--> 284\u001b[0m \u001b[38;5;28;01mreturn\u001b[39;00m \u001b[43mio_open\u001b[49m\u001b[43m(\u001b[49m\u001b[43mfile\u001b[49m\u001b[43m,\u001b[49m\u001b[43m \u001b[49m\u001b[38;5;241;43m*\u001b[39;49m\u001b[43margs\u001b[49m\u001b[43m,\u001b[49m\u001b[43m \u001b[49m\u001b[38;5;241;43m*\u001b[39;49m\u001b[38;5;241;43m*\u001b[39;49m\u001b[43mkwargs\u001b[49m\u001b[43m)\u001b[49m\n",
      "\u001b[1;31mFileNotFoundError\u001b[0m: [Errno 2] No such file or directory: 'data.json'"
     ]
    }
   ],
   "source": [
    "def remove_keys(data, keys_to_remove):\n",
    "    if isinstance(data, dict):\n",
    "        return {key: remove_keys(value, keys_to_remove) for key, value in data.items() if\n",
    "                key not in keys_to_remove}\n",
    "    elif isinstance(data, list):\n",
    "        return [remove_keys(item, keys_to_remove) for item in data]\n",
    "    else:\n",
    "        return data\n",
    "\n",
    "\n",
    "keys_to_remove = {\"new_cases_smoothed\", \"new_deaths_smoothed\", \"new_cases_smoothed_per_million\",\n",
    "                  \"new_deaths_smoothed_per_million\", \"new_cases\", \"new_cases_per_million\", \"new_deaths\",\n",
    "                  \"new_deaths_smoothed\", \"new_deaths_per_million\", \"new_deaths_smoothed_per_million\",\n",
    "                  \"excess_mortality\", \"excess_mortality_cumulative\", \"excess_mortality_cumulative_absolute\",\n",
    "                  \"excess_mortality_cumulative_per_million\", \"icu_patients\", \"icu_patients_per_million\",\n",
    "                  \"hosp_patients\", \"hosp_patients_per_million\", \"weekly_icu_admissions\",\n",
    "                  \"weekly_icu_admissions_per_million\", \"weekly_hosp_admissions\", \"weekly_hosp_admissions_per_million\",\n",
    "                  \"reproduction_rate\", \"new_tests\", \"new_tests_per_thousand\", \"new_tests_smoothed\",\n",
    "                  \"new_tests_smoothed_per_thousand\", \"positive_rate\", \"tests_per_case\", \"tests_units\",\n",
    "                  \"total_vaccinations\", \"people_fully_vaccinated\", \"total_boosters\", \"new_vaccinations\",\n",
    "                  \"new_vaccinations_smoothed\", \"total_vaccinations_per_hundred\", \"people_fully_vaccinated_per_hundred\",\n",
    "                  \"total_boosters_per_hundred\", \"new_vaccinations_smoothed_per_million\",\n",
    "                  \"new_people_vaccinated_smoothed\", \"new_people_vaccinated_smoothed_per_hundred\", \"population_density\",\n",
    "                  \"median_age\", \"aged_65_older\", \"aged_70_older\", \"gdp_per_capita\", \"extreme_poverty\",\n",
    "                  \"cardiovasc_death_rate\", \"diabetes_prevalence\", \"female_smokers\", \"male_smokers\",\n",
    "                  \"handwashing_facilities\", \"hospital_beds_per_thousand\", \"life_expectancy\", \"human_development_index\"}\n",
    "\n",
    "with open('data.json', 'r') as file:\n",
    "    data = json.load(file)\n",
    "\n",
    "cleaned_data = remove_keys(data, keys_to_remove)\n",
    "\n",
    "with open('cleaned_data.json', 'w') as file:\n",
    "    json.dump(cleaned_data, file, indent=4)"
   ]
  },
  {
   "cell_type": "code",
   "execution_count": null,
   "id": "a1e2104b",
   "metadata": {},
   "outputs": [],
   "source": []
  }
 ],
 "metadata": {
  "kernelspec": {
   "display_name": "Python 3",
   "language": "python",
   "name": "python3"
  },
  "language_info": {
   "codemirror_mode": {
    "name": "ipython",
    "version": 3
   },
   "file_extension": ".py",
   "mimetype": "text/x-python",
   "name": "python",
   "nbconvert_exporter": "python",
   "pygments_lexer": "ipython3",
   "version": "3.11.7"
  }
 },
 "nbformat": 4,
 "nbformat_minor": 5
}
