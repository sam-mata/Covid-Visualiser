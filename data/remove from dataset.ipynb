{
 "cells": [
  {
   "cell_type": "code",
   "id": "initial_id",
   "metadata": {
    "collapsed": true,
    "ExecuteTime": {
     "end_time": "2024-05-22T01:23:47.621950Z",
     "start_time": "2024-05-22T01:23:21.939101Z"
    }
   },
   "source": "import json",
   "outputs": [],
   "execution_count": 2
  },
  {
   "metadata": {
    "ExecuteTime": {
     "end_time": "2024-05-22T01:24:01.128861Z",
     "start_time": "2024-05-22T01:23:47.622958Z"
    }
   },
   "cell_type": "code",
   "source": [
    "def remove_keys(data, keys_to_remove):\n",
    "    if isinstance(data, dict):\n",
    "        return {key: remove_keys(value, keys_to_remove) for key, value in data.items() if\n",
    "                key not in keys_to_remove}\n",
    "    elif isinstance(data, list):\n",
    "        return [remove_keys(item, keys_to_remove) for item in data]\n",
    "    else:\n",
    "        return data\n",
    "\n",
    "\n",
    "keys_to_remove = {\"new_cases_smoothed\", \"new_deaths_smoothed\", \"new_cases_smoothed_per_million\",\n",
    "                  \"new_deaths_smoothed_per_million\", \"new_cases\", \"new_cases_per_million\", \"new_deaths\",\n",
    "                  \"new_deaths_smoothed\", \"new_deaths_per_million\", \"new_deaths_smoothed_per_million\",\n",
    "                  \"excess_mortality\", \"excess_mortality_cumulative\", \"excess_mortality_cumulative_absolute\",\n",
    "                  \"excess_mortality_cumulative_per_million\", \"icu_patients\", \"icu_patients_per_million\",\n",
    "                  \"hosp_patients\", \"hosp_patients_per_million\", \"weekly_icu_admissions\",\n",
    "                  \"weekly_icu_admissions_per_million\", \"weekly_hosp_admissions\", \"weekly_hosp_admissions_per_million\",\n",
    "                  \"reproduction_rate\", \"new_tests\", \"new_tests_per_thousand\", \"new_tests_smoothed\",\n",
    "                  \"new_tests_smoothed_per_thousand\", \"positive_rate\", \"tests_per_case\", \"tests_units\",\n",
    "                  \"total_vaccinations\", \"people_fully_vaccinated\", \"total_boosters\", \"new_vaccinations\",\n",
    "                  \"new_vaccinations_smoothed\", \"total_vaccinations_per_hundred\", \"people_fully_vaccinated_per_hundred\",\n",
    "                  \"total_boosters_per_hundred\", \"new_vaccinations_smoothed_per_million\",\n",
    "                  \"new_people_vaccinated_smoothed\", \"new_people_vaccinated_smoothed_per_hundred\", \"population_density\",\n",
    "                  \"median_age\", \"aged_65_older\", \"aged_70_older\", \"gdp_per_capita\", \"extreme_poverty\",\n",
    "                  \"cardiovasc_death_rate\", \"diabetes_prevalence\", \"female_smokers\", \"male_smokers\",\n",
    "                  \"handwashing_facilities\", \"hospital_beds_per_thousand\", \"life_expectancy\", \"human_development_index\"}\n",
    "\n",
    "with open('data.json', 'r') as file:\n",
    "    data = json.load(file)\n",
    "\n",
    "cleaned_data = remove_keys(data, keys_to_remove)\n",
    "\n",
    "with open('cleaned_data.json', 'w') as file:\n",
    "    json.dump(cleaned_data, file, indent=4)"
   ],
   "id": "a816fb4f6ef57c96",
   "outputs": [
    {
     "name": "stdout",
     "output_type": "stream",
     "text": [
      "Data cleaned and saved to cleaned_data.json.\n"
     ]
    }
   ],
   "execution_count": 3
  },
  {
   "metadata": {
    "ExecuteTime": {
     "end_time": "2024-05-22T01:24:01.134406Z",
     "start_time": "2024-05-22T01:24:01.131232Z"
    }
   },
   "cell_type": "code",
   "source": "",
   "id": "a84ab43e1ffd1f2e",
   "outputs": [],
   "execution_count": 3
  }
 ],
 "metadata": {
  "kernelspec": {
   "display_name": "Python 3",
   "language": "python",
   "name": "python3"
  },
  "language_info": {
   "codemirror_mode": {
    "name": "ipython",
    "version": 2
   },
   "file_extension": ".py",
   "mimetype": "text/x-python",
   "name": "python",
   "nbconvert_exporter": "python",
   "pygments_lexer": "ipython2",
   "version": "2.7.6"
  }
 },
 "nbformat": 4,
 "nbformat_minor": 5
}
